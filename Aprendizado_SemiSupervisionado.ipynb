{
  "nbformat": 4,
  "nbformat_minor": 0,
  "metadata": {
    "colab": {
      "provenance": [],
      "authorship_tag": "ABX9TyP5ELhoQOb1c007fLwLjKxm",
      "include_colab_link": true
    },
    "kernelspec": {
      "name": "python3",
      "display_name": "Python 3"
    },
    "language_info": {
      "name": "python"
    }
  },
  "cells": [
    {
      "cell_type": "markdown",
      "metadata": {
        "id": "view-in-github",
        "colab_type": "text"
      },
      "source": [
        "<a href=\"https://colab.research.google.com/github/costaljorge/AlgoritmoCN2/blob/main/Aprendizado_SemiSupervisionado.ipynb\" target=\"_parent\"><img src=\"https://colab.research.google.com/assets/colab-badge.svg\" alt=\"Open In Colab\"/></a>"
      ]
    },
    {
      "cell_type": "markdown",
      "source": [
        "### O Orange é uma plataforma de código aberto para mineração de dados e análise de dados visuais. Oferece uma interface intuitiva e flexível, permitindo aos usuários realizar tarefas de mineração de dados complexas de forma eficiente. Com uma ampla variedade de ferramentas e algoritmos pré-construídos, o Orange permite explorar dados, realizar pré-processamento, visualizar resultados e construir modelos de machine learning de forma rápida e fácil. Sua abordagem visual facilita a compreensão dos dados e dos resultados dos modelos, tornando-o uma escolha popular tanto para iniciantes quanto para especialistas em ciência de dados. O Algoritmo CN2 não existe no sklearn, mas voce consegue roda-lo através do Orange."
      ],
      "metadata": {
        "id": "TytN0VpLZImN"
      }
    },
    {
      "cell_type": "code",
      "execution_count": null,
      "metadata": {
        "id": "MbHR95M5vpJj"
      },
      "outputs": [],
      "source": [
        "#Instalando o Orange\n",
        "\n",
        "!pip install Orange3"
      ]
    },
    {
      "cell_type": "code",
      "source": [
        "# Importando as bibliotecas necessárias\n",
        "\n",
        "from sklearn.cluster import AgglomerativeClustering\n",
        "from scipy.spatial.distance import pdist\n",
        "from scipy.spatial.distance import squareform\n",
        "import pandas as pd\n",
        "\n",
        "\n",
        "# Lendo o DataFrame\n",
        "\n",
        "df = pd.read_excel('/content/Filmes.xlsx')\n",
        "\n",
        "# Calculando a matriz de distância com a distância de Hamming\n",
        "\n",
        "distancia = pdist(df.values, metric='hamming')\n",
        "matriz_distancia = squareform(distancia)\n",
        "\n",
        "# Aplicando o algoritmo de Clustering Hierárquico\n",
        "\n",
        "cluster = AgglomerativeClustering(n_clusters=3, affinity='precomputed', linkage='average')\n",
        "predicoes = cluster.fit_predict(matriz_distancia)\n",
        "\n",
        "# Preparando os clusters do Dataframe\n",
        "\n",
        "df['cluster'] = predicoes\n",
        "aux = {0: 'Classe_assite_1', 1: 'Classe_assite_2', 2: 'Classe_assite_3'}\n",
        "df['cluster'] = df['cluster'].replace(aux)\n",
        "df.set_index(df.columns[0], inplace=True)\n",
        "df.rename(columns={'cluster': 'c#cluster'}, inplace=True)\n",
        "df.to_excel('Cluster_filmes.xlsx')\n",
        "\n",
        "\n"
      ],
      "metadata": {
        "id": "26Mv7V7fwW3r"
      },
      "execution_count": null,
      "outputs": []
    },
    {
      "cell_type": "code",
      "source": [
        "import Orange\n",
        "\n",
        "# Carregar o conjunto de dados\n",
        "data = Orange.data.Table('/content/Cluster_filmes.xlsx')\n",
        "cn2=Orange.classification.rules.CN2Learner()\n",
        "regras=cn2(data)"
      ],
      "metadata": {
        "id": "YRNrEhVB8uDZ"
      },
      "execution_count": null,
      "outputs": []
    },
    {
      "cell_type": "code",
      "source": [
        "# Imprimindo as regras\n",
        "\n",
        "for rule in regras.rule_list:\n",
        "    print(rule)"
      ],
      "metadata": {
        "id": "xG-BIjRITsqU"
      },
      "execution_count": null,
      "outputs": []
    },
    {
      "cell_type": "code",
      "source": [
        "#Imprindo as regras de acordo com uma certa probabilidade\n",
        "\n",
        "for i in regras.rule_list:\n",
        "  if i.probabilities[1] >= .65:\n",
        "    print(i,\"------------------\",i.probabilities[1])"
      ],
      "metadata": {
        "id": "dtCs1VWlWCgv"
      },
      "execution_count": null,
      "outputs": []
    },
    {
      "cell_type": "code",
      "source": [
        "#Imprindo as regras em um arquivo texto\n",
        "\n",
        "with open(\"saida.txt\", \"w\") as arquivo:\n",
        "  for i in regras.rule_list:\n",
        "    if i.probabilities[1] >= .65:\n",
        "      # Escreva a variável no arquivo\n",
        "      arquivo.write(str(i) + \"\\n\")"
      ],
      "metadata": {
        "id": "l3Hsv8HrWmXA"
      },
      "execution_count": 98,
      "outputs": []
    },
    {
      "cell_type": "code",
      "source": [
        "# Calculando a acurácia do modelo\n",
        "\n",
        "acuracia = Orange.evaluation.testing.TestOnTestData(data, data, [lambda testdata: regras])\n",
        "print('Acurácia:', Orange.evaluation.CA(acuracia)[0]*100)"
      ],
      "metadata": {
        "id": "_yJAQSUdUKuL"
      },
      "execution_count": null,
      "outputs": []
    }
  ]
}